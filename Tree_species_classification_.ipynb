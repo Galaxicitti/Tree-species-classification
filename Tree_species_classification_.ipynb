{
  "nbformat": 4,
  "nbformat_minor": 0,
  "metadata": {
    "colab": {
      "provenance": [],
      "authorship_tag": "ABX9TyM+JjfvmB2lYbcHCkYs2Bs2",
      "include_colab_link": true
    },
    "kernelspec": {
      "name": "python3",
      "display_name": "Python 3"
    },
    "language_info": {
      "name": "python"
    }
  },
  "cells": [
    {
      "cell_type": "markdown",
      "metadata": {
        "id": "view-in-github",
        "colab_type": "text"
      },
      "source": [
        "<a href=\"https://colab.research.google.com/github/Galaxicitti/Tree-species-classification/blob/main/Tree_species_classification_.ipynb\" target=\"_parent\"><img src=\"https://colab.research.google.com/assets/colab-badge.svg\" alt=\"Open In Colab\"/></a>"
      ]
    },
    {
      "cell_type": "code",
      "source": [
        "import kagglehub\n",
        "\n",
        "path = kagglehub.dataset_download(\"viditgandhi/tree-species-identification-dataset\")\n",
        "\n",
        "print(\"Path to dataset files:\", path)"
      ],
      "metadata": {
        "colab": {
          "base_uri": "https://localhost:8080/"
        },
        "id": "FDMtamFX8axj",
        "outputId": "b8fd236e-7ff6-427c-83cd-f66fc3949431"
      },
      "execution_count": null,
      "outputs": [
        {
          "output_type": "stream",
          "name": "stdout",
          "text": [
            "Path to dataset files: /kaggle/input/tree-species-identification-dataset\n"
          ]
        }
      ]
    },
    {
      "cell_type": "code",
      "source": [
        "import shutil\n",
        "\n",
        "\n",
        "source_path = '/root/.cache/kagglehub/datasets/viditgandhi/tree-species-identification-dataset/versions/1'\n",
        "\n",
        "\n",
        "destination_path = '/content/tree-species-dataset'\n",
        "\n",
        "try:\n",
        "    shutil.move(source_path, destination_path)\n",
        "    print(f\"Dataset moved successfully from {source_path} to {destination_path}\")\n",
        "except shutil.Error as e:\n",
        "    print(f\"Error moving dataset: {e}\")\n",
        "except FileNotFoundError:\n",
        "    print(f\"Source directory not found: {source_path}\")"
      ],
      "metadata": {
        "colab": {
          "base_uri": "https://localhost:8080/"
        },
        "id": "NPcbyzoM8WYk",
        "outputId": "b0a84da0-45dc-4f4e-c346-3ca6612181ad"
      },
      "execution_count": null,
      "outputs": [
        {
          "output_type": "stream",
          "name": "stdout",
          "text": [
            "Source directory not found: /root/.cache/kagglehub/datasets/viditgandhi/tree-species-identification-dataset/versions/1\n"
          ]
        }
      ]
    }
  ]
}